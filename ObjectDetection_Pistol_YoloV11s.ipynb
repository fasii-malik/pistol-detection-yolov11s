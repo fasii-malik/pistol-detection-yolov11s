{
  "nbformat": 4,
  "nbformat_minor": 0,
  "metadata": {
    "colab": {
      "provenance": []
    },
    "kernelspec": {
      "name": "python3",
      "display_name": "Python 3"
    },
    "language_info": {
      "name": "python"
    }
  },
  "cells": [
    {
      "cell_type": "code",
      "execution_count": 7,
      "metadata": {
        "colab": {
          "base_uri": "https://localhost:8080/"
        },
        "id": "bROE40QVbVvj",
        "outputId": "ac29a6e6-c143-425e-e910-d560cf14b2c6"
      },
      "outputs": [
        {
          "output_type": "stream",
          "name": "stdout",
          "text": [
            "Extraction complete. Files are in: /content/extracted_files_split\n"
          ]
        }
      ],
      "source": [
        "import zipfile\n",
        "import os\n",
        "\n",
        "# Path to the uploaded ZIP file (you can upload using the file upload tool)\n",
        "zip_path = '/content/Pistol-yolo11-split.zip'  # Change this to your actual file path\n",
        "extract_dir = '/content/extracted_files_split'  # Destination directory\n",
        "\n",
        "# Create the destination directory if it doesn't exist\n",
        "os.makedirs(extract_dir, exist_ok=True)\n",
        "\n",
        "# Extract the ZIP file\n",
        "with zipfile.ZipFile(zip_path, 'r') as zip_ref:\n",
        "    zip_ref.extractall(extract_dir)\n",
        "\n",
        "print(f'Extraction complete. Files are in: {extract_dir}')\n"
      ]
    },
    {
      "cell_type": "code",
      "source": [
        "!pip install ultralytics"
      ],
      "metadata": {
        "colab": {
          "base_uri": "https://localhost:8080/"
        },
        "id": "4ISgTYlpgS8Q",
        "outputId": "65d7f8f7-fb24-435d-f9da-02358f7060e7"
      },
      "execution_count": 8,
      "outputs": [
        {
          "output_type": "stream",
          "name": "stdout",
          "text": [
            "Requirement already satisfied: ultralytics in /usr/local/lib/python3.11/dist-packages (8.3.175)\n",
            "Requirement already satisfied: numpy>=1.23.0 in /usr/local/lib/python3.11/dist-packages (from ultralytics) (2.0.2)\n",
            "Requirement already satisfied: matplotlib>=3.3.0 in /usr/local/lib/python3.11/dist-packages (from ultralytics) (3.10.0)\n",
            "Requirement already satisfied: opencv-python>=4.6.0 in /usr/local/lib/python3.11/dist-packages (from ultralytics) (4.12.0.88)\n",
            "Requirement already satisfied: pillow>=7.1.2 in /usr/local/lib/python3.11/dist-packages (from ultralytics) (11.3.0)\n",
            "Requirement already satisfied: pyyaml>=5.3.1 in /usr/local/lib/python3.11/dist-packages (from ultralytics) (6.0.2)\n",
            "Requirement already satisfied: requests>=2.23.0 in /usr/local/lib/python3.11/dist-packages (from ultralytics) (2.32.3)\n",
            "Requirement already satisfied: scipy>=1.4.1 in /usr/local/lib/python3.11/dist-packages (from ultralytics) (1.16.1)\n",
            "Requirement already satisfied: torch>=1.8.0 in /usr/local/lib/python3.11/dist-packages (from ultralytics) (2.6.0+cu124)\n",
            "Requirement already satisfied: torchvision>=0.9.0 in /usr/local/lib/python3.11/dist-packages (from ultralytics) (0.21.0+cu124)\n",
            "Requirement already satisfied: tqdm>=4.64.0 in /usr/local/lib/python3.11/dist-packages (from ultralytics) (4.67.1)\n",
            "Requirement already satisfied: psutil in /usr/local/lib/python3.11/dist-packages (from ultralytics) (5.9.5)\n",
            "Requirement already satisfied: py-cpuinfo in /usr/local/lib/python3.11/dist-packages (from ultralytics) (9.0.0)\n",
            "Requirement already satisfied: pandas>=1.1.4 in /usr/local/lib/python3.11/dist-packages (from ultralytics) (2.2.2)\n",
            "Requirement already satisfied: ultralytics-thop>=2.0.0 in /usr/local/lib/python3.11/dist-packages (from ultralytics) (2.0.15)\n",
            "Requirement already satisfied: contourpy>=1.0.1 in /usr/local/lib/python3.11/dist-packages (from matplotlib>=3.3.0->ultralytics) (1.3.3)\n",
            "Requirement already satisfied: cycler>=0.10 in /usr/local/lib/python3.11/dist-packages (from matplotlib>=3.3.0->ultralytics) (0.12.1)\n",
            "Requirement already satisfied: fonttools>=4.22.0 in /usr/local/lib/python3.11/dist-packages (from matplotlib>=3.3.0->ultralytics) (4.59.0)\n",
            "Requirement already satisfied: kiwisolver>=1.3.1 in /usr/local/lib/python3.11/dist-packages (from matplotlib>=3.3.0->ultralytics) (1.4.8)\n",
            "Requirement already satisfied: packaging>=20.0 in /usr/local/lib/python3.11/dist-packages (from matplotlib>=3.3.0->ultralytics) (25.0)\n",
            "Requirement already satisfied: pyparsing>=2.3.1 in /usr/local/lib/python3.11/dist-packages (from matplotlib>=3.3.0->ultralytics) (3.2.3)\n",
            "Requirement already satisfied: python-dateutil>=2.7 in /usr/local/lib/python3.11/dist-packages (from matplotlib>=3.3.0->ultralytics) (2.9.0.post0)\n",
            "Requirement already satisfied: pytz>=2020.1 in /usr/local/lib/python3.11/dist-packages (from pandas>=1.1.4->ultralytics) (2025.2)\n",
            "Requirement already satisfied: tzdata>=2022.7 in /usr/local/lib/python3.11/dist-packages (from pandas>=1.1.4->ultralytics) (2025.2)\n",
            "Requirement already satisfied: charset-normalizer<4,>=2 in /usr/local/lib/python3.11/dist-packages (from requests>=2.23.0->ultralytics) (3.4.2)\n",
            "Requirement already satisfied: idna<4,>=2.5 in /usr/local/lib/python3.11/dist-packages (from requests>=2.23.0->ultralytics) (3.10)\n",
            "Requirement already satisfied: urllib3<3,>=1.21.1 in /usr/local/lib/python3.11/dist-packages (from requests>=2.23.0->ultralytics) (2.5.0)\n",
            "Requirement already satisfied: certifi>=2017.4.17 in /usr/local/lib/python3.11/dist-packages (from requests>=2.23.0->ultralytics) (2025.8.3)\n",
            "Requirement already satisfied: filelock in /usr/local/lib/python3.11/dist-packages (from torch>=1.8.0->ultralytics) (3.18.0)\n",
            "Requirement already satisfied: typing-extensions>=4.10.0 in /usr/local/lib/python3.11/dist-packages (from torch>=1.8.0->ultralytics) (4.14.1)\n",
            "Requirement already satisfied: networkx in /usr/local/lib/python3.11/dist-packages (from torch>=1.8.0->ultralytics) (3.5)\n",
            "Requirement already satisfied: jinja2 in /usr/local/lib/python3.11/dist-packages (from torch>=1.8.0->ultralytics) (3.1.6)\n",
            "Requirement already satisfied: fsspec in /usr/local/lib/python3.11/dist-packages (from torch>=1.8.0->ultralytics) (2025.3.0)\n",
            "Requirement already satisfied: nvidia-cuda-nvrtc-cu12==12.4.127 in /usr/local/lib/python3.11/dist-packages (from torch>=1.8.0->ultralytics) (12.4.127)\n",
            "Requirement already satisfied: nvidia-cuda-runtime-cu12==12.4.127 in /usr/local/lib/python3.11/dist-packages (from torch>=1.8.0->ultralytics) (12.4.127)\n",
            "Requirement already satisfied: nvidia-cuda-cupti-cu12==12.4.127 in /usr/local/lib/python3.11/dist-packages (from torch>=1.8.0->ultralytics) (12.4.127)\n",
            "Requirement already satisfied: nvidia-cudnn-cu12==9.1.0.70 in /usr/local/lib/python3.11/dist-packages (from torch>=1.8.0->ultralytics) (9.1.0.70)\n",
            "Requirement already satisfied: nvidia-cublas-cu12==12.4.5.8 in /usr/local/lib/python3.11/dist-packages (from torch>=1.8.0->ultralytics) (12.4.5.8)\n",
            "Requirement already satisfied: nvidia-cufft-cu12==11.2.1.3 in /usr/local/lib/python3.11/dist-packages (from torch>=1.8.0->ultralytics) (11.2.1.3)\n",
            "Requirement already satisfied: nvidia-curand-cu12==10.3.5.147 in /usr/local/lib/python3.11/dist-packages (from torch>=1.8.0->ultralytics) (10.3.5.147)\n",
            "Requirement already satisfied: nvidia-cusolver-cu12==11.6.1.9 in /usr/local/lib/python3.11/dist-packages (from torch>=1.8.0->ultralytics) (11.6.1.9)\n",
            "Requirement already satisfied: nvidia-cusparse-cu12==12.3.1.170 in /usr/local/lib/python3.11/dist-packages (from torch>=1.8.0->ultralytics) (12.3.1.170)\n",
            "Requirement already satisfied: nvidia-cusparselt-cu12==0.6.2 in /usr/local/lib/python3.11/dist-packages (from torch>=1.8.0->ultralytics) (0.6.2)\n",
            "Requirement already satisfied: nvidia-nccl-cu12==2.21.5 in /usr/local/lib/python3.11/dist-packages (from torch>=1.8.0->ultralytics) (2.21.5)\n",
            "Requirement already satisfied: nvidia-nvtx-cu12==12.4.127 in /usr/local/lib/python3.11/dist-packages (from torch>=1.8.0->ultralytics) (12.4.127)\n",
            "Requirement already satisfied: nvidia-nvjitlink-cu12==12.4.127 in /usr/local/lib/python3.11/dist-packages (from torch>=1.8.0->ultralytics) (12.4.127)\n",
            "Requirement already satisfied: triton==3.2.0 in /usr/local/lib/python3.11/dist-packages (from torch>=1.8.0->ultralytics) (3.2.0)\n",
            "Requirement already satisfied: sympy==1.13.1 in /usr/local/lib/python3.11/dist-packages (from torch>=1.8.0->ultralytics) (1.13.1)\n",
            "Requirement already satisfied: mpmath<1.4,>=1.1.0 in /usr/local/lib/python3.11/dist-packages (from sympy==1.13.1->torch>=1.8.0->ultralytics) (1.3.0)\n",
            "Requirement already satisfied: six>=1.5 in /usr/local/lib/python3.11/dist-packages (from python-dateutil>=2.7->matplotlib>=3.3.0->ultralytics) (1.17.0)\n",
            "Requirement already satisfied: MarkupSafe>=2.0 in /usr/local/lib/python3.11/dist-packages (from jinja2->torch>=1.8.0->ultralytics) (3.0.2)\n"
          ]
        }
      ]
    },
    {
      "cell_type": "code",
      "source": [
        "from ultralytics import YOLO\n",
        "\n",
        "# Load a COCO-pretrained YOLO11n model\n",
        "model = YOLO(\"yolo11s.pt\")\n",
        "\n",
        "# Train the model on the COCO8 example dataset for 100 epochs\n",
        "results = model.train(data=\"/content/extracted_files_split/data.yaml\", epochs=2, imgsz=640)"
      ],
      "metadata": {
        "colab": {
          "base_uri": "https://localhost:8080/"
        },
        "id": "huGTbKsxiL_c",
        "outputId": "8c873769-8888-4332-9f51-748c4ab29f26"
      },
      "execution_count": 9,
      "outputs": [
        {
          "metadata": {
            "tags": null
          },
          "name": "stdout",
          "output_type": "stream",
          "text": [
            "Ultralytics 8.3.175 🚀 Python-3.11.13 torch-2.6.0+cu124 CPU (Intel Xeon 2.20GHz)\n",
            "\u001b[34m\u001b[1mengine/trainer: \u001b[0magnostic_nms=False, amp=True, augment=False, auto_augment=randaugment, batch=16, bgr=0.0, box=7.5, cache=False, cfg=None, classes=None, close_mosaic=10, cls=0.5, conf=None, copy_paste=0.0, copy_paste_mode=flip, cos_lr=False, cutmix=0.0, data=/content/extracted_files_split/data.yaml, degrees=0.0, deterministic=True, device=cpu, dfl=1.5, dnn=False, dropout=0.0, dynamic=False, embed=None, epochs=2, erasing=0.4, exist_ok=False, fliplr=0.5, flipud=0.0, format=torchscript, fraction=1.0, freeze=None, half=False, hsv_h=0.015, hsv_s=0.7, hsv_v=0.4, imgsz=640, int8=False, iou=0.7, keras=False, kobj=1.0, line_width=None, lr0=0.01, lrf=0.01, mask_ratio=4, max_det=300, mixup=0.0, mode=train, model=yolo11s.pt, momentum=0.937, mosaic=1.0, multi_scale=False, name=train4, nbs=64, nms=False, opset=None, optimize=False, optimizer=auto, overlap_mask=True, patience=100, perspective=0.0, plots=True, pose=12.0, pretrained=True, profile=False, project=None, rect=False, resume=False, retina_masks=False, save=True, save_conf=False, save_crop=False, save_dir=runs/detect/train4, save_frames=False, save_json=False, save_period=-1, save_txt=False, scale=0.5, seed=0, shear=0.0, show=False, show_boxes=True, show_conf=True, show_labels=True, simplify=True, single_cls=False, source=None, split=val, stream_buffer=False, task=detect, time=None, tracker=botsort.yaml, translate=0.1, val=True, verbose=True, vid_stride=1, visualize=False, warmup_bias_lr=0.1, warmup_epochs=3.0, warmup_momentum=0.8, weight_decay=0.0005, workers=8, workspace=None\n"
          ]
        },
        {
          "metadata": {
            "tags": null
          },
          "name": "stderr",
          "output_type": "stream",
          "text": [
            "Downloading https://ultralytics.com/assets/Arial.ttf to '/root/.config/Ultralytics/Arial.ttf': 100%|██████████| 755k/755k [00:00<00:00, 14.2MB/s]"
          ]
        },
        {
          "metadata": {
            "tags": null
          },
          "name": "stdout",
          "output_type": "stream",
          "text": [
            "Overriding model.yaml nc=80 with nc=1\n",
            "\n",
            "                   from  n    params  module                                       arguments                     \n",
            "  0                  -1  1       928  ultralytics.nn.modules.conv.Conv             [3, 32, 3, 2]                 \n",
            "  1                  -1  1     18560  ultralytics.nn.modules.conv.Conv             [32, 64, 3, 2]                \n",
            "  2                  -1  1     26080  ultralytics.nn.modules.block.C3k2            [64, 128, 1, False, 0.25]     \n",
            "  3                  -1  1    147712  ultralytics.nn.modules.conv.Conv             [128, 128, 3, 2]              \n",
            "  4                  -1  1    103360  ultralytics.nn.modules.block.C3k2            [128, 256, 1, False, 0.25]    \n",
            "  5                  -1  1    590336  ultralytics.nn.modules.conv.Conv             [256, 256, 3, 2]              \n",
            "  6                  -1  1    346112  ultralytics.nn.modules.block.C3k2            [256, 256, 1, True]           \n",
            "  7                  -1  1   1180672  ultralytics.nn.modules.conv.Conv             [256, 512, 3, 2]              \n",
            "  8                  -1  1   1380352  ultralytics.nn.modules.block.C3k2            [512, 512, 1, True]           \n",
            "  9                  -1  1    656896  ultralytics.nn.modules.block.SPPF            [512, 512, 5]                 \n",
            " 10                  -1  1    990976  ultralytics.nn.modules.block.C2PSA           [512, 512, 1]                 \n",
            " 11                  -1  1         0  torch.nn.modules.upsampling.Upsample         [None, 2, 'nearest']          \n",
            " 12             [-1, 6]  1         0  ultralytics.nn.modules.conv.Concat           [1]                           \n",
            " 13                  -1  1    443776  ultralytics.nn.modules.block.C3k2            [768, 256, 1, False]          \n"
          ]
        },
        {
          "metadata": {
            "tags": null
          },
          "name": "stderr",
          "output_type": "stream",
          "text": [
            "\n"
          ]
        },
        {
          "metadata": {
            "tags": null
          },
          "name": "stdout",
          "output_type": "stream",
          "text": [
            " 14                  -1  1         0  torch.nn.modules.upsampling.Upsample         [None, 2, 'nearest']          \n",
            " 15             [-1, 4]  1         0  ultralytics.nn.modules.conv.Concat           [1]                           \n",
            " 16                  -1  1    127680  ultralytics.nn.modules.block.C3k2            [512, 128, 1, False]          \n",
            " 17                  -1  1    147712  ultralytics.nn.modules.conv.Conv             [128, 128, 3, 2]              \n",
            " 18            [-1, 13]  1         0  ultralytics.nn.modules.conv.Concat           [1]                           \n",
            " 19                  -1  1    345472  ultralytics.nn.modules.block.C3k2            [384, 256, 1, False]          \n",
            " 20                  -1  1    590336  ultralytics.nn.modules.conv.Conv             [256, 256, 3, 2]              \n",
            " 21            [-1, 10]  1         0  ultralytics.nn.modules.conv.Concat           [1]                           \n",
            " 22                  -1  1   1511424  ultralytics.nn.modules.block.C3k2            [768, 512, 1, True]           \n",
            " 23        [16, 19, 22]  1    819795  ultralytics.nn.modules.head.Detect           [1, [128, 256, 512]]          \n",
            "YOLO11s summary: 181 layers, 9,428,179 parameters, 9,428,163 gradients, 21.5 GFLOPs\n",
            "\n",
            "Transferred 493/499 items from pretrained weights\n",
            "Freezing layer 'model.23.dfl.conv.weight'\n",
            "\u001b[34m\u001b[1mtrain: \u001b[0mFast image access ✅ (ping: 0.0±0.0 ms, read: 627.7±296.6 MB/s, size: 20.2 KB)\n"
          ]
        },
        {
          "metadata": {
            "tags": null
          },
          "name": "stderr",
          "output_type": "stream",
          "text": [
            "\u001b[34m\u001b[1mtrain: \u001b[0mScanning /content/extracted_files_split/train/labels... 2080 images, 0 backgrounds, 0 corrupt: 100%|██████████| 2080/2080 [00:01<00:00, 1975.56it/s]"
          ]
        },
        {
          "metadata": {
            "tags": null
          },
          "name": "stdout",
          "output_type": "stream",
          "text": [
            "\u001b[34m\u001b[1mtrain: \u001b[0mNew cache created: /content/extracted_files_split/train/labels.cache\n"
          ]
        },
        {
          "metadata": {
            "tags": null
          },
          "name": "stderr",
          "output_type": "stream",
          "text": [
            "\n"
          ]
        },
        {
          "metadata": {
            "tags": null
          },
          "name": "stdout",
          "output_type": "stream",
          "text": [
            "\u001b[34m\u001b[1malbumentations: \u001b[0mBlur(p=0.01, blur_limit=(3, 7)), MedianBlur(p=0.01, blur_limit=(3, 7)), ToGray(p=0.01, method='weighted_average', num_output_channels=3), CLAHE(p=0.01, clip_limit=(1.0, 4.0), tile_grid_size=(8, 8))\n",
            "\u001b[34m\u001b[1mval: \u001b[0mFast image access ✅ (ping: 0.0±0.0 ms, read: 269.3±85.7 MB/s, size: 13.1 KB)\n"
          ]
        },
        {
          "metadata": {
            "tags": null
          },
          "name": "stderr",
          "output_type": "stream",
          "text": [
            "\u001b[34m\u001b[1mval: \u001b[0mScanning /content/extracted_files_split/validate/labels... 594 images, 0 backgrounds, 0 corrupt: 100%|██████████| 594/594 [00:00<00:00, 2138.67it/s]"
          ]
        },
        {
          "metadata": {
            "tags": null
          },
          "name": "stdout",
          "output_type": "stream",
          "text": [
            "\u001b[34m\u001b[1mval: \u001b[0mNew cache created: /content/extracted_files_split/validate/labels.cache\n"
          ]
        },
        {
          "metadata": {
            "tags": null
          },
          "name": "stderr",
          "output_type": "stream",
          "text": [
            "\n"
          ]
        },
        {
          "metadata": {
            "tags": null
          },
          "name": "stdout",
          "output_type": "stream",
          "text": [
            "Plotting labels to runs/detect/train4/labels.jpg... \n",
            "\u001b[34m\u001b[1moptimizer:\u001b[0m 'optimizer=auto' found, ignoring 'lr0=0.01' and 'momentum=0.937' and determining best 'optimizer', 'lr0' and 'momentum' automatically... \n",
            "\u001b[34m\u001b[1moptimizer:\u001b[0m AdamW(lr=0.002, momentum=0.9) with parameter groups 81 weight(decay=0.0), 88 weight(decay=0.0005), 87 bias(decay=0.0)\n",
            "Image sizes 640 train, 640 val\n",
            "Using 0 dataloader workers\n",
            "Logging results to \u001b[1mruns/detect/train4\u001b[0m\n",
            "Starting training for 2 epochs...\n",
            "\n",
            "      Epoch    GPU_mem   box_loss   cls_loss   dfl_loss  Instances       Size\n"
          ]
        },
        {
          "output_type": "stream",
          "name": "stderr",
          "text": [
            "        1/2         0G      1.355      2.611      1.659         43        640: 100%|██████████| 130/130 [1:14:35<00:00, 34.43s/it]\n",
            "                 Class     Images  Instances      Box(P          R      mAP50  mAP50-95): 100%|██████████| 19/19 [08:03<00:00, 25.46s/it]"
          ]
        },
        {
          "output_type": "stream",
          "name": "stdout",
          "text": [
            "                   all        594        610      0.121      0.487      0.103     0.0421\n"
          ]
        },
        {
          "output_type": "stream",
          "name": "stderr",
          "text": [
            "\n"
          ]
        },
        {
          "output_type": "stream",
          "name": "stdout",
          "text": [
            "\n",
            "      Epoch    GPU_mem   box_loss   cls_loss   dfl_loss  Instances       Size\n"
          ]
        },
        {
          "output_type": "stream",
          "name": "stderr",
          "text": [
            "        2/2         0G      1.444      1.857      1.737         38        640: 100%|██████████| 130/130 [1:17:19<00:00, 35.69s/it]\n",
            "                 Class     Images  Instances      Box(P          R      mAP50  mAP50-95): 100%|██████████| 19/19 [08:01<00:00, 25.32s/it]"
          ]
        },
        {
          "output_type": "stream",
          "name": "stdout",
          "text": [
            "                   all        594        610      0.356      0.495      0.285     0.0749\n"
          ]
        },
        {
          "output_type": "stream",
          "name": "stderr",
          "text": [
            "\n"
          ]
        },
        {
          "output_type": "stream",
          "name": "stdout",
          "text": [
            "\n",
            "2 epochs completed in 2.800 hours.\n",
            "Optimizer stripped from runs/detect/train4/weights/last.pt, 19.2MB\n",
            "Optimizer stripped from runs/detect/train4/weights/best.pt, 19.2MB\n",
            "\n",
            "Validating runs/detect/train4/weights/best.pt...\n",
            "Ultralytics 8.3.175 🚀 Python-3.11.13 torch-2.6.0+cu124 CPU (Intel Xeon 2.20GHz)\n",
            "YOLO11s summary (fused): 100 layers, 9,413,187 parameters, 0 gradients, 21.3 GFLOPs\n"
          ]
        },
        {
          "output_type": "stream",
          "name": "stderr",
          "text": [
            "                 Class     Images  Instances      Box(P          R      mAP50  mAP50-95): 100%|██████████| 19/19 [07:32<00:00, 23.80s/it]\n"
          ]
        },
        {
          "output_type": "stream",
          "name": "stdout",
          "text": [
            "                   all        594        610      0.355      0.495      0.282     0.0749\n",
            "Speed: 7.5ms preprocess, 744.6ms inference, 0.0ms loss, 0.8ms postprocess per image\n",
            "Results saved to \u001b[1mruns/detect/train4\u001b[0m\n"
          ]
        }
      ]
    },
    {
      "cell_type": "code",
      "source": [
        "from ultralytics import YOLO\n",
        "from IPython.display import Video, display\n",
        "\n",
        "# Load the trained model\n",
        "model = YOLO(\"runs/detect/train4/weights/best.pt\")\n",
        "\n",
        "# Run prediction on a video\n",
        "results = model.predict(\n",
        "    source=\"/content/5243197-hd_1920_1080_25fps.mp4\",\n",
        "    conf=0.25,\n",
        "    save=True\n",
        ")\n"
      ],
      "metadata": {
        "colab": {
          "base_uri": "https://localhost:8080/"
        },
        "collapsed": true,
        "id": "8T49JT8o43wT",
        "outputId": "8fa56045-acf8-4767-dd2c-bf80fb581acf"
      },
      "execution_count": 13,
      "outputs": [
        {
          "output_type": "stream",
          "name": "stdout",
          "text": [
            "\n",
            "WARNING ⚠️ \n",
            "inference results will accumulate in RAM unless `stream=True` is passed, causing potential out-of-memory\n",
            "errors for large sources or long-running streams and videos. See https://docs.ultralytics.com/modes/predict/ for help.\n",
            "\n",
            "Example:\n",
            "    results = model(source=..., stream=True)  # generator of Results objects\n",
            "    for r in results:\n",
            "        boxes = r.boxes  # Boxes object for bbox outputs\n",
            "        masks = r.masks  # Masks object for segment masks outputs\n",
            "        probs = r.probs  # Class probabilities for classification outputs\n",
            "\n",
            "video 1/1 (frame 1/239) /content/5243197-hd_1920_1080_25fps.mp4: 384x640 1 pistol, 308.6ms\n",
            "video 1/1 (frame 2/239) /content/5243197-hd_1920_1080_25fps.mp4: 384x640 1 pistol, 321.7ms\n",
            "video 1/1 (frame 3/239) /content/5243197-hd_1920_1080_25fps.mp4: 384x640 1 pistol, 307.7ms\n",
            "video 1/1 (frame 4/239) /content/5243197-hd_1920_1080_25fps.mp4: 384x640 1 pistol, 310.1ms\n",
            "video 1/1 (frame 5/239) /content/5243197-hd_1920_1080_25fps.mp4: 384x640 1 pistol, 323.5ms\n",
            "video 1/1 (frame 6/239) /content/5243197-hd_1920_1080_25fps.mp4: 384x640 1 pistol, 306.5ms\n",
            "video 1/1 (frame 7/239) /content/5243197-hd_1920_1080_25fps.mp4: 384x640 1 pistol, 362.9ms\n",
            "video 1/1 (frame 8/239) /content/5243197-hd_1920_1080_25fps.mp4: 384x640 3 pistols, 501.3ms\n",
            "video 1/1 (frame 9/239) /content/5243197-hd_1920_1080_25fps.mp4: 384x640 3 pistols, 462.5ms\n",
            "video 1/1 (frame 10/239) /content/5243197-hd_1920_1080_25fps.mp4: 384x640 3 pistols, 475.5ms\n",
            "video 1/1 (frame 11/239) /content/5243197-hd_1920_1080_25fps.mp4: 384x640 (no detections), 468.8ms\n",
            "video 1/1 (frame 12/239) /content/5243197-hd_1920_1080_25fps.mp4: 384x640 1 pistol, 482.6ms\n",
            "video 1/1 (frame 13/239) /content/5243197-hd_1920_1080_25fps.mp4: 384x640 1 pistol, 307.9ms\n",
            "video 1/1 (frame 14/239) /content/5243197-hd_1920_1080_25fps.mp4: 384x640 1 pistol, 329.1ms\n",
            "video 1/1 (frame 15/239) /content/5243197-hd_1920_1080_25fps.mp4: 384x640 1 pistol, 311.2ms\n",
            "video 1/1 (frame 16/239) /content/5243197-hd_1920_1080_25fps.mp4: 384x640 1 pistol, 312.1ms\n",
            "video 1/1 (frame 17/239) /content/5243197-hd_1920_1080_25fps.mp4: 384x640 1 pistol, 329.1ms\n",
            "video 1/1 (frame 18/239) /content/5243197-hd_1920_1080_25fps.mp4: 384x640 2 pistols, 303.8ms\n",
            "video 1/1 (frame 19/239) /content/5243197-hd_1920_1080_25fps.mp4: 384x640 2 pistols, 304.9ms\n",
            "video 1/1 (frame 20/239) /content/5243197-hd_1920_1080_25fps.mp4: 384x640 2 pistols, 323.5ms\n",
            "video 1/1 (frame 21/239) /content/5243197-hd_1920_1080_25fps.mp4: 384x640 1 pistol, 307.8ms\n",
            "video 1/1 (frame 22/239) /content/5243197-hd_1920_1080_25fps.mp4: 384x640 1 pistol, 309.4ms\n",
            "video 1/1 (frame 23/239) /content/5243197-hd_1920_1080_25fps.mp4: 384x640 2 pistols, 322.3ms\n",
            "video 1/1 (frame 24/239) /content/5243197-hd_1920_1080_25fps.mp4: 384x640 2 pistols, 308.3ms\n",
            "video 1/1 (frame 25/239) /content/5243197-hd_1920_1080_25fps.mp4: 384x640 2 pistols, 308.0ms\n",
            "video 1/1 (frame 26/239) /content/5243197-hd_1920_1080_25fps.mp4: 384x640 2 pistols, 328.2ms\n",
            "video 1/1 (frame 27/239) /content/5243197-hd_1920_1080_25fps.mp4: 384x640 2 pistols, 306.3ms\n",
            "video 1/1 (frame 28/239) /content/5243197-hd_1920_1080_25fps.mp4: 384x640 2 pistols, 305.2ms\n",
            "video 1/1 (frame 29/239) /content/5243197-hd_1920_1080_25fps.mp4: 384x640 3 pistols, 322.4ms\n",
            "video 1/1 (frame 30/239) /content/5243197-hd_1920_1080_25fps.mp4: 384x640 3 pistols, 302.5ms\n",
            "video 1/1 (frame 31/239) /content/5243197-hd_1920_1080_25fps.mp4: 384x640 2 pistols, 304.0ms\n",
            "video 1/1 (frame 32/239) /content/5243197-hd_1920_1080_25fps.mp4: 384x640 2 pistols, 320.1ms\n",
            "video 1/1 (frame 33/239) /content/5243197-hd_1920_1080_25fps.mp4: 384x640 2 pistols, 300.0ms\n",
            "video 1/1 (frame 34/239) /content/5243197-hd_1920_1080_25fps.mp4: 384x640 3 pistols, 306.2ms\n",
            "video 1/1 (frame 35/239) /content/5243197-hd_1920_1080_25fps.mp4: 384x640 2 pistols, 322.8ms\n",
            "video 1/1 (frame 36/239) /content/5243197-hd_1920_1080_25fps.mp4: 384x640 1 pistol, 302.9ms\n",
            "video 1/1 (frame 37/239) /content/5243197-hd_1920_1080_25fps.mp4: 384x640 1 pistol, 303.3ms\n",
            "video 1/1 (frame 38/239) /content/5243197-hd_1920_1080_25fps.mp4: 384x640 1 pistol, 319.5ms\n",
            "video 1/1 (frame 39/239) /content/5243197-hd_1920_1080_25fps.mp4: 384x640 1 pistol, 304.5ms\n",
            "video 1/1 (frame 40/239) /content/5243197-hd_1920_1080_25fps.mp4: 384x640 1 pistol, 307.1ms\n",
            "video 1/1 (frame 41/239) /content/5243197-hd_1920_1080_25fps.mp4: 384x640 1 pistol, 702.5ms\n",
            "video 1/1 (frame 42/239) /content/5243197-hd_1920_1080_25fps.mp4: 384x640 1 pistol, 1016.0ms\n",
            "video 1/1 (frame 43/239) /content/5243197-hd_1920_1080_25fps.mp4: 384x640 2 pistols, 811.3ms\n",
            "video 1/1 (frame 44/239) /content/5243197-hd_1920_1080_25fps.mp4: 384x640 1 pistol, 847.7ms\n",
            "video 1/1 (frame 45/239) /content/5243197-hd_1920_1080_25fps.mp4: 384x640 1 pistol, 481.9ms\n",
            "video 1/1 (frame 46/239) /content/5243197-hd_1920_1080_25fps.mp4: 384x640 1 pistol, 418.5ms\n",
            "video 1/1 (frame 47/239) /content/5243197-hd_1920_1080_25fps.mp4: 384x640 1 pistol, 316.3ms\n",
            "video 1/1 (frame 48/239) /content/5243197-hd_1920_1080_25fps.mp4: 384x640 2 pistols, 303.3ms\n",
            "video 1/1 (frame 49/239) /content/5243197-hd_1920_1080_25fps.mp4: 384x640 2 pistols, 309.0ms\n",
            "video 1/1 (frame 50/239) /content/5243197-hd_1920_1080_25fps.mp4: 384x640 2 pistols, 319.4ms\n",
            "video 1/1 (frame 51/239) /content/5243197-hd_1920_1080_25fps.mp4: 384x640 1 pistol, 305.1ms\n",
            "video 1/1 (frame 52/239) /content/5243197-hd_1920_1080_25fps.mp4: 384x640 1 pistol, 311.7ms\n",
            "video 1/1 (frame 53/239) /content/5243197-hd_1920_1080_25fps.mp4: 384x640 1 pistol, 318.8ms\n",
            "video 1/1 (frame 54/239) /content/5243197-hd_1920_1080_25fps.mp4: 384x640 1 pistol, 304.3ms\n",
            "video 1/1 (frame 55/239) /content/5243197-hd_1920_1080_25fps.mp4: 384x640 1 pistol, 307.7ms\n",
            "video 1/1 (frame 56/239) /content/5243197-hd_1920_1080_25fps.mp4: 384x640 1 pistol, 316.3ms\n",
            "video 1/1 (frame 57/239) /content/5243197-hd_1920_1080_25fps.mp4: 384x640 1 pistol, 305.0ms\n",
            "video 1/1 (frame 58/239) /content/5243197-hd_1920_1080_25fps.mp4: 384x640 1 pistol, 304.1ms\n",
            "video 1/1 (frame 59/239) /content/5243197-hd_1920_1080_25fps.mp4: 384x640 1 pistol, 316.3ms\n",
            "video 1/1 (frame 60/239) /content/5243197-hd_1920_1080_25fps.mp4: 384x640 1 pistol, 305.0ms\n",
            "video 1/1 (frame 61/239) /content/5243197-hd_1920_1080_25fps.mp4: 384x640 1 pistol, 307.1ms\n",
            "video 1/1 (frame 62/239) /content/5243197-hd_1920_1080_25fps.mp4: 384x640 1 pistol, 317.4ms\n",
            "video 1/1 (frame 63/239) /content/5243197-hd_1920_1080_25fps.mp4: 384x640 1 pistol, 305.5ms\n",
            "video 1/1 (frame 64/239) /content/5243197-hd_1920_1080_25fps.mp4: 384x640 1 pistol, 305.0ms\n",
            "video 1/1 (frame 65/239) /content/5243197-hd_1920_1080_25fps.mp4: 384x640 1 pistol, 330.2ms\n",
            "video 1/1 (frame 66/239) /content/5243197-hd_1920_1080_25fps.mp4: 384x640 2 pistols, 314.4ms\n",
            "video 1/1 (frame 67/239) /content/5243197-hd_1920_1080_25fps.mp4: 384x640 2 pistols, 307.5ms\n",
            "video 1/1 (frame 68/239) /content/5243197-hd_1920_1080_25fps.mp4: 384x640 1 pistol, 328.9ms\n",
            "video 1/1 (frame 69/239) /content/5243197-hd_1920_1080_25fps.mp4: 384x640 (no detections), 302.8ms\n",
            "video 1/1 (frame 70/239) /content/5243197-hd_1920_1080_25fps.mp4: 384x640 (no detections), 305.3ms\n",
            "video 1/1 (frame 71/239) /content/5243197-hd_1920_1080_25fps.mp4: 384x640 (no detections), 347.3ms\n",
            "video 1/1 (frame 72/239) /content/5243197-hd_1920_1080_25fps.mp4: 384x640 (no detections), 351.3ms\n",
            "video 1/1 (frame 73/239) /content/5243197-hd_1920_1080_25fps.mp4: 384x640 (no detections), 300.8ms\n",
            "video 1/1 (frame 74/239) /content/5243197-hd_1920_1080_25fps.mp4: 384x640 (no detections), 323.0ms\n",
            "video 1/1 (frame 75/239) /content/5243197-hd_1920_1080_25fps.mp4: 384x640 (no detections), 468.4ms\n",
            "video 1/1 (frame 76/239) /content/5243197-hd_1920_1080_25fps.mp4: 384x640 (no detections), 463.5ms\n",
            "video 1/1 (frame 77/239) /content/5243197-hd_1920_1080_25fps.mp4: 384x640 (no detections), 462.9ms\n",
            "video 1/1 (frame 78/239) /content/5243197-hd_1920_1080_25fps.mp4: 384x640 (no detections), 475.4ms\n",
            "video 1/1 (frame 79/239) /content/5243197-hd_1920_1080_25fps.mp4: 384x640 (no detections), 478.3ms\n",
            "video 1/1 (frame 80/239) /content/5243197-hd_1920_1080_25fps.mp4: 384x640 (no detections), 383.5ms\n",
            "video 1/1 (frame 81/239) /content/5243197-hd_1920_1080_25fps.mp4: 384x640 (no detections), 305.3ms\n",
            "video 1/1 (frame 82/239) /content/5243197-hd_1920_1080_25fps.mp4: 384x640 (no detections), 301.0ms\n",
            "video 1/1 (frame 83/239) /content/5243197-hd_1920_1080_25fps.mp4: 384x640 (no detections), 316.7ms\n",
            "video 1/1 (frame 84/239) /content/5243197-hd_1920_1080_25fps.mp4: 384x640 (no detections), 305.2ms\n",
            "video 1/1 (frame 85/239) /content/5243197-hd_1920_1080_25fps.mp4: 384x640 (no detections), 307.1ms\n",
            "video 1/1 (frame 86/239) /content/5243197-hd_1920_1080_25fps.mp4: 384x640 (no detections), 314.8ms\n",
            "video 1/1 (frame 87/239) /content/5243197-hd_1920_1080_25fps.mp4: 384x640 (no detections), 306.7ms\n",
            "video 1/1 (frame 88/239) /content/5243197-hd_1920_1080_25fps.mp4: 384x640 (no detections), 305.1ms\n",
            "video 1/1 (frame 89/239) /content/5243197-hd_1920_1080_25fps.mp4: 384x640 (no detections), 322.4ms\n",
            "video 1/1 (frame 90/239) /content/5243197-hd_1920_1080_25fps.mp4: 384x640 (no detections), 299.9ms\n",
            "video 1/1 (frame 91/239) /content/5243197-hd_1920_1080_25fps.mp4: 384x640 (no detections), 303.4ms\n",
            "video 1/1 (frame 92/239) /content/5243197-hd_1920_1080_25fps.mp4: 384x640 (no detections), 341.6ms\n",
            "video 1/1 (frame 93/239) /content/5243197-hd_1920_1080_25fps.mp4: 384x640 (no detections), 310.6ms\n",
            "video 1/1 (frame 94/239) /content/5243197-hd_1920_1080_25fps.mp4: 384x640 (no detections), 309.8ms\n",
            "video 1/1 (frame 95/239) /content/5243197-hd_1920_1080_25fps.mp4: 384x640 (no detections), 316.8ms\n",
            "video 1/1 (frame 96/239) /content/5243197-hd_1920_1080_25fps.mp4: 384x640 (no detections), 297.3ms\n",
            "video 1/1 (frame 97/239) /content/5243197-hd_1920_1080_25fps.mp4: 384x640 (no detections), 299.4ms\n",
            "video 1/1 (frame 98/239) /content/5243197-hd_1920_1080_25fps.mp4: 384x640 (no detections), 318.0ms\n",
            "video 1/1 (frame 99/239) /content/5243197-hd_1920_1080_25fps.mp4: 384x640 (no detections), 311.4ms\n",
            "video 1/1 (frame 100/239) /content/5243197-hd_1920_1080_25fps.mp4: 384x640 (no detections), 303.7ms\n",
            "video 1/1 (frame 101/239) /content/5243197-hd_1920_1080_25fps.mp4: 384x640 (no detections), 318.1ms\n",
            "video 1/1 (frame 102/239) /content/5243197-hd_1920_1080_25fps.mp4: 384x640 (no detections), 300.9ms\n",
            "video 1/1 (frame 103/239) /content/5243197-hd_1920_1080_25fps.mp4: 384x640 (no detections), 304.1ms\n",
            "video 1/1 (frame 104/239) /content/5243197-hd_1920_1080_25fps.mp4: 384x640 (no detections), 314.9ms\n",
            "video 1/1 (frame 105/239) /content/5243197-hd_1920_1080_25fps.mp4: 384x640 (no detections), 302.3ms\n",
            "video 1/1 (frame 106/239) /content/5243197-hd_1920_1080_25fps.mp4: 384x640 (no detections), 304.1ms\n",
            "video 1/1 (frame 107/239) /content/5243197-hd_1920_1080_25fps.mp4: 384x640 (no detections), 316.6ms\n",
            "video 1/1 (frame 108/239) /content/5243197-hd_1920_1080_25fps.mp4: 384x640 (no detections), 300.5ms\n",
            "video 1/1 (frame 109/239) /content/5243197-hd_1920_1080_25fps.mp4: 384x640 (no detections), 438.5ms\n",
            "video 1/1 (frame 110/239) /content/5243197-hd_1920_1080_25fps.mp4: 384x640 (no detections), 475.9ms\n",
            "video 1/1 (frame 111/239) /content/5243197-hd_1920_1080_25fps.mp4: 384x640 (no detections), 466.1ms\n",
            "video 1/1 (frame 112/239) /content/5243197-hd_1920_1080_25fps.mp4: 384x640 (no detections), 464.2ms\n",
            "video 1/1 (frame 113/239) /content/5243197-hd_1920_1080_25fps.mp4: 384x640 (no detections), 476.7ms\n",
            "video 1/1 (frame 114/239) /content/5243197-hd_1920_1080_25fps.mp4: 384x640 (no detections), 390.7ms\n",
            "video 1/1 (frame 115/239) /content/5243197-hd_1920_1080_25fps.mp4: 384x640 (no detections), 319.3ms\n",
            "video 1/1 (frame 116/239) /content/5243197-hd_1920_1080_25fps.mp4: 384x640 (no detections), 297.3ms\n",
            "video 1/1 (frame 117/239) /content/5243197-hd_1920_1080_25fps.mp4: 384x640 (no detections), 309.1ms\n",
            "video 1/1 (frame 118/239) /content/5243197-hd_1920_1080_25fps.mp4: 384x640 (no detections), 304.3ms\n",
            "video 1/1 (frame 119/239) /content/5243197-hd_1920_1080_25fps.mp4: 384x640 (no detections), 301.7ms\n",
            "video 1/1 (frame 120/239) /content/5243197-hd_1920_1080_25fps.mp4: 384x640 (no detections), 328.7ms\n",
            "video 1/1 (frame 121/239) /content/5243197-hd_1920_1080_25fps.mp4: 384x640 1 pistol, 317.6ms\n",
            "video 1/1 (frame 122/239) /content/5243197-hd_1920_1080_25fps.mp4: 384x640 1 pistol, 293.7ms\n",
            "video 1/1 (frame 123/239) /content/5243197-hd_1920_1080_25fps.mp4: 384x640 1 pistol, 319.5ms\n",
            "video 1/1 (frame 124/239) /content/5243197-hd_1920_1080_25fps.mp4: 384x640 1 pistol, 300.7ms\n",
            "video 1/1 (frame 125/239) /content/5243197-hd_1920_1080_25fps.mp4: 384x640 2 pistols, 310.3ms\n",
            "video 1/1 (frame 126/239) /content/5243197-hd_1920_1080_25fps.mp4: 384x640 2 pistols, 316.0ms\n",
            "video 1/1 (frame 127/239) /content/5243197-hd_1920_1080_25fps.mp4: 384x640 2 pistols, 306.3ms\n",
            "video 1/1 (frame 128/239) /content/5243197-hd_1920_1080_25fps.mp4: 384x640 3 pistols, 297.1ms\n",
            "video 1/1 (frame 129/239) /content/5243197-hd_1920_1080_25fps.mp4: 384x640 3 pistols, 310.5ms\n",
            "video 1/1 (frame 130/239) /content/5243197-hd_1920_1080_25fps.mp4: 384x640 2 pistols, 297.0ms\n",
            "video 1/1 (frame 131/239) /content/5243197-hd_1920_1080_25fps.mp4: 384x640 1 pistol, 296.9ms\n",
            "video 1/1 (frame 132/239) /content/5243197-hd_1920_1080_25fps.mp4: 384x640 2 pistols, 319.0ms\n",
            "video 1/1 (frame 133/239) /content/5243197-hd_1920_1080_25fps.mp4: 384x640 2 pistols, 303.4ms\n",
            "video 1/1 (frame 134/239) /content/5243197-hd_1920_1080_25fps.mp4: 384x640 2 pistols, 296.5ms\n",
            "video 1/1 (frame 135/239) /content/5243197-hd_1920_1080_25fps.mp4: 384x640 2 pistols, 320.3ms\n",
            "video 1/1 (frame 136/239) /content/5243197-hd_1920_1080_25fps.mp4: 384x640 3 pistols, 308.1ms\n",
            "video 1/1 (frame 137/239) /content/5243197-hd_1920_1080_25fps.mp4: 384x640 2 pistols, 299.9ms\n",
            "video 1/1 (frame 138/239) /content/5243197-hd_1920_1080_25fps.mp4: 384x640 1 pistol, 325.1ms\n",
            "video 1/1 (frame 139/239) /content/5243197-hd_1920_1080_25fps.mp4: 384x640 3 pistols, 309.8ms\n",
            "video 1/1 (frame 140/239) /content/5243197-hd_1920_1080_25fps.mp4: 384x640 2 pistols, 302.8ms\n",
            "video 1/1 (frame 141/239) /content/5243197-hd_1920_1080_25fps.mp4: 384x640 2 pistols, 328.4ms\n",
            "video 1/1 (frame 142/239) /content/5243197-hd_1920_1080_25fps.mp4: 384x640 1 pistol, 305.4ms\n",
            "video 1/1 (frame 143/239) /content/5243197-hd_1920_1080_25fps.mp4: 384x640 1 pistol, 450.5ms\n",
            "video 1/1 (frame 144/239) /content/5243197-hd_1920_1080_25fps.mp4: 384x640 1 pistol, 460.7ms\n",
            "video 1/1 (frame 145/239) /content/5243197-hd_1920_1080_25fps.mp4: 384x640 1 pistol, 492.2ms\n",
            "video 1/1 (frame 146/239) /content/5243197-hd_1920_1080_25fps.mp4: 384x640 1 pistol, 464.0ms\n",
            "video 1/1 (frame 147/239) /content/5243197-hd_1920_1080_25fps.mp4: 384x640 2 pistols, 471.9ms\n",
            "video 1/1 (frame 148/239) /content/5243197-hd_1920_1080_25fps.mp4: 384x640 1 pistol, 408.9ms\n",
            "video 1/1 (frame 149/239) /content/5243197-hd_1920_1080_25fps.mp4: 384x640 2 pistols, 309.7ms\n",
            "video 1/1 (frame 150/239) /content/5243197-hd_1920_1080_25fps.mp4: 384x640 2 pistols, 321.7ms\n",
            "video 1/1 (frame 151/239) /content/5243197-hd_1920_1080_25fps.mp4: 384x640 1 pistol, 306.6ms\n",
            "video 1/1 (frame 152/239) /content/5243197-hd_1920_1080_25fps.mp4: 384x640 2 pistols, 302.6ms\n",
            "video 1/1 (frame 153/239) /content/5243197-hd_1920_1080_25fps.mp4: 384x640 2 pistols, 323.4ms\n",
            "video 1/1 (frame 154/239) /content/5243197-hd_1920_1080_25fps.mp4: 384x640 3 pistols, 302.0ms\n",
            "video 1/1 (frame 155/239) /content/5243197-hd_1920_1080_25fps.mp4: 384x640 2 pistols, 299.7ms\n",
            "video 1/1 (frame 156/239) /content/5243197-hd_1920_1080_25fps.mp4: 384x640 2 pistols, 315.4ms\n",
            "video 1/1 (frame 157/239) /content/5243197-hd_1920_1080_25fps.mp4: 384x640 2 pistols, 298.1ms\n",
            "video 1/1 (frame 158/239) /content/5243197-hd_1920_1080_25fps.mp4: 384x640 3 pistols, 305.8ms\n",
            "video 1/1 (frame 159/239) /content/5243197-hd_1920_1080_25fps.mp4: 384x640 3 pistols, 319.5ms\n",
            "video 1/1 (frame 160/239) /content/5243197-hd_1920_1080_25fps.mp4: 384x640 2 pistols, 318.3ms\n",
            "video 1/1 (frame 161/239) /content/5243197-hd_1920_1080_25fps.mp4: 384x640 3 pistols, 309.0ms\n",
            "video 1/1 (frame 162/239) /content/5243197-hd_1920_1080_25fps.mp4: 384x640 1 pistol, 314.3ms\n",
            "video 1/1 (frame 163/239) /content/5243197-hd_1920_1080_25fps.mp4: 384x640 1 pistol, 305.9ms\n",
            "video 1/1 (frame 164/239) /content/5243197-hd_1920_1080_25fps.mp4: 384x640 1 pistol, 310.0ms\n",
            "video 1/1 (frame 165/239) /content/5243197-hd_1920_1080_25fps.mp4: 384x640 1 pistol, 319.2ms\n",
            "video 1/1 (frame 166/239) /content/5243197-hd_1920_1080_25fps.mp4: 384x640 (no detections), 298.7ms\n",
            "video 1/1 (frame 167/239) /content/5243197-hd_1920_1080_25fps.mp4: 384x640 (no detections), 314.2ms\n",
            "video 1/1 (frame 168/239) /content/5243197-hd_1920_1080_25fps.mp4: 384x640 (no detections), 319.9ms\n",
            "video 1/1 (frame 169/239) /content/5243197-hd_1920_1080_25fps.mp4: 384x640 1 pistol, 441.1ms\n",
            "video 1/1 (frame 170/239) /content/5243197-hd_1920_1080_25fps.mp4: 384x640 1 pistol, 475.0ms\n",
            "video 1/1 (frame 171/239) /content/5243197-hd_1920_1080_25fps.mp4: 384x640 (no detections), 475.4ms\n",
            "video 1/1 (frame 172/239) /content/5243197-hd_1920_1080_25fps.mp4: 384x640 (no detections), 553.8ms\n",
            "video 1/1 (frame 173/239) /content/5243197-hd_1920_1080_25fps.mp4: 384x640 (no detections), 784.0ms\n",
            "video 1/1 (frame 174/239) /content/5243197-hd_1920_1080_25fps.mp4: 384x640 (no detections), 845.2ms\n",
            "video 1/1 (frame 175/239) /content/5243197-hd_1920_1080_25fps.mp4: 384x640 1 pistol, 552.3ms\n",
            "video 1/1 (frame 176/239) /content/5243197-hd_1920_1080_25fps.mp4: 384x640 1 pistol, 459.5ms\n",
            "video 1/1 (frame 177/239) /content/5243197-hd_1920_1080_25fps.mp4: 384x640 1 pistol, 466.0ms\n",
            "video 1/1 (frame 178/239) /content/5243197-hd_1920_1080_25fps.mp4: 384x640 1 pistol, 463.5ms\n",
            "video 1/1 (frame 179/239) /content/5243197-hd_1920_1080_25fps.mp4: 384x640 2 pistols, 462.4ms\n",
            "video 1/1 (frame 180/239) /content/5243197-hd_1920_1080_25fps.mp4: 384x640 1 pistol, 299.0ms\n",
            "video 1/1 (frame 181/239) /content/5243197-hd_1920_1080_25fps.mp4: 384x640 2 pistols, 304.7ms\n",
            "video 1/1 (frame 182/239) /content/5243197-hd_1920_1080_25fps.mp4: 384x640 2 pistols, 321.0ms\n",
            "video 1/1 (frame 183/239) /content/5243197-hd_1920_1080_25fps.mp4: 384x640 1 pistol, 303.4ms\n",
            "video 1/1 (frame 184/239) /content/5243197-hd_1920_1080_25fps.mp4: 384x640 1 pistol, 300.9ms\n",
            "video 1/1 (frame 185/239) /content/5243197-hd_1920_1080_25fps.mp4: 384x640 1 pistol, 334.3ms\n",
            "video 1/1 (frame 186/239) /content/5243197-hd_1920_1080_25fps.mp4: 384x640 1 pistol, 307.7ms\n",
            "video 1/1 (frame 187/239) /content/5243197-hd_1920_1080_25fps.mp4: 384x640 (no detections), 304.4ms\n",
            "video 1/1 (frame 188/239) /content/5243197-hd_1920_1080_25fps.mp4: 384x640 (no detections), 319.1ms\n",
            "video 1/1 (frame 189/239) /content/5243197-hd_1920_1080_25fps.mp4: 384x640 1 pistol, 299.4ms\n",
            "video 1/1 (frame 190/239) /content/5243197-hd_1920_1080_25fps.mp4: 384x640 (no detections), 303.1ms\n",
            "video 1/1 (frame 191/239) /content/5243197-hd_1920_1080_25fps.mp4: 384x640 (no detections), 316.9ms\n",
            "video 1/1 (frame 192/239) /content/5243197-hd_1920_1080_25fps.mp4: 384x640 (no detections), 299.6ms\n",
            "video 1/1 (frame 193/239) /content/5243197-hd_1920_1080_25fps.mp4: 384x640 2 pistols, 307.3ms\n",
            "video 1/1 (frame 194/239) /content/5243197-hd_1920_1080_25fps.mp4: 384x640 1 pistol, 318.4ms\n",
            "video 1/1 (frame 195/239) /content/5243197-hd_1920_1080_25fps.mp4: 384x640 1 pistol, 309.2ms\n",
            "video 1/1 (frame 196/239) /content/5243197-hd_1920_1080_25fps.mp4: 384x640 1 pistol, 309.4ms\n",
            "video 1/1 (frame 197/239) /content/5243197-hd_1920_1080_25fps.mp4: 384x640 1 pistol, 318.1ms\n",
            "video 1/1 (frame 198/239) /content/5243197-hd_1920_1080_25fps.mp4: 384x640 1 pistol, 306.6ms\n",
            "video 1/1 (frame 199/239) /content/5243197-hd_1920_1080_25fps.mp4: 384x640 1 pistol, 313.3ms\n",
            "video 1/1 (frame 200/239) /content/5243197-hd_1920_1080_25fps.mp4: 384x640 1 pistol, 317.0ms\n",
            "video 1/1 (frame 201/239) /content/5243197-hd_1920_1080_25fps.mp4: 384x640 1 pistol, 298.5ms\n",
            "video 1/1 (frame 202/239) /content/5243197-hd_1920_1080_25fps.mp4: 384x640 2 pistols, 305.1ms\n",
            "video 1/1 (frame 203/239) /content/5243197-hd_1920_1080_25fps.mp4: 384x640 2 pistols, 312.2ms\n",
            "video 1/1 (frame 204/239) /content/5243197-hd_1920_1080_25fps.mp4: 384x640 2 pistols, 332.7ms\n",
            "video 1/1 (frame 205/239) /content/5243197-hd_1920_1080_25fps.mp4: 384x640 2 pistols, 326.7ms\n",
            "video 1/1 (frame 206/239) /content/5243197-hd_1920_1080_25fps.mp4: 384x640 (no detections), 320.7ms\n",
            "video 1/1 (frame 207/239) /content/5243197-hd_1920_1080_25fps.mp4: 384x640 1 pistol, 306.7ms\n",
            "video 1/1 (frame 208/239) /content/5243197-hd_1920_1080_25fps.mp4: 384x640 1 pistol, 388.9ms\n",
            "video 1/1 (frame 209/239) /content/5243197-hd_1920_1080_25fps.mp4: 384x640 2 pistols, 464.6ms\n",
            "video 1/1 (frame 210/239) /content/5243197-hd_1920_1080_25fps.mp4: 384x640 4 pistols, 463.0ms\n",
            "video 1/1 (frame 211/239) /content/5243197-hd_1920_1080_25fps.mp4: 384x640 3 pistols, 471.7ms\n",
            "video 1/1 (frame 212/239) /content/5243197-hd_1920_1080_25fps.mp4: 384x640 2 pistols, 460.5ms\n",
            "video 1/1 (frame 213/239) /content/5243197-hd_1920_1080_25fps.mp4: 384x640 1 pistol, 432.3ms\n",
            "video 1/1 (frame 214/239) /content/5243197-hd_1920_1080_25fps.mp4: 384x640 (no detections), 306.4ms\n",
            "video 1/1 (frame 215/239) /content/5243197-hd_1920_1080_25fps.mp4: 384x640 1 pistol, 299.3ms\n",
            "video 1/1 (frame 216/239) /content/5243197-hd_1920_1080_25fps.mp4: 384x640 2 pistols, 318.5ms\n",
            "video 1/1 (frame 217/239) /content/5243197-hd_1920_1080_25fps.mp4: 384x640 2 pistols, 304.2ms\n",
            "video 1/1 (frame 218/239) /content/5243197-hd_1920_1080_25fps.mp4: 384x640 2 pistols, 300.7ms\n",
            "video 1/1 (frame 219/239) /content/5243197-hd_1920_1080_25fps.mp4: 384x640 3 pistols, 328.4ms\n",
            "video 1/1 (frame 220/239) /content/5243197-hd_1920_1080_25fps.mp4: 384x640 3 pistols, 300.8ms\n",
            "video 1/1 (frame 221/239) /content/5243197-hd_1920_1080_25fps.mp4: 384x640 3 pistols, 315.7ms\n",
            "video 1/1 (frame 222/239) /content/5243197-hd_1920_1080_25fps.mp4: 384x640 4 pistols, 321.1ms\n",
            "video 1/1 (frame 223/239) /content/5243197-hd_1920_1080_25fps.mp4: 384x640 3 pistols, 307.7ms\n",
            "video 1/1 (frame 224/239) /content/5243197-hd_1920_1080_25fps.mp4: 384x640 3 pistols, 309.7ms\n",
            "video 1/1 (frame 225/239) /content/5243197-hd_1920_1080_25fps.mp4: 384x640 2 pistols, 331.9ms\n",
            "video 1/1 (frame 226/239) /content/5243197-hd_1920_1080_25fps.mp4: 384x640 4 pistols, 305.0ms\n",
            "video 1/1 (frame 227/239) /content/5243197-hd_1920_1080_25fps.mp4: 384x640 3 pistols, 303.9ms\n",
            "video 1/1 (frame 228/239) /content/5243197-hd_1920_1080_25fps.mp4: 384x640 5 pistols, 320.5ms\n",
            "video 1/1 (frame 229/239) /content/5243197-hd_1920_1080_25fps.mp4: 384x640 4 pistols, 303.4ms\n",
            "video 1/1 (frame 230/239) /content/5243197-hd_1920_1080_25fps.mp4: 384x640 3 pistols, 303.3ms\n",
            "video 1/1 (frame 231/239) /content/5243197-hd_1920_1080_25fps.mp4: 384x640 3 pistols, 320.0ms\n",
            "video 1/1 (frame 232/239) /content/5243197-hd_1920_1080_25fps.mp4: 384x640 2 pistols, 299.0ms\n",
            "video 1/1 (frame 233/239) /content/5243197-hd_1920_1080_25fps.mp4: 384x640 3 pistols, 303.1ms\n",
            "video 1/1 (frame 234/239) /content/5243197-hd_1920_1080_25fps.mp4: 384x640 4 pistols, 315.9ms\n",
            "video 1/1 (frame 235/239) /content/5243197-hd_1920_1080_25fps.mp4: 384x640 3 pistols, 324.2ms\n",
            "video 1/1 (frame 236/239) /content/5243197-hd_1920_1080_25fps.mp4: 384x640 3 pistols, 306.2ms\n",
            "video 1/1 (frame 237/239) /content/5243197-hd_1920_1080_25fps.mp4: 384x640 3 pistols, 315.0ms\n",
            "video 1/1 (frame 238/239) /content/5243197-hd_1920_1080_25fps.mp4: 384x640 4 pistols, 299.2ms\n",
            "video 1/1 (frame 239/239) /content/5243197-hd_1920_1080_25fps.mp4: 384x640 2 pistols, 303.0ms\n",
            "Speed: 5.5ms preprocess, 349.7ms inference, 1.1ms postprocess per image at shape (1, 3, 384, 640)\n",
            "Results saved to \u001b[1mruns/detect/predict4\u001b[0m\n"
          ]
        }
      ]
    }
  ]
}